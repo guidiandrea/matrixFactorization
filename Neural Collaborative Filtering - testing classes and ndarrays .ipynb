{
 "cells": [
  {
   "cell_type": "code",
   "execution_count": 1,
   "metadata": {},
   "outputs": [],
   "source": [
    "import pandas as pd \n",
    "import numpy as np\n",
    "import mxnet as mx\n",
    "from mxnet import nd, autograd, gluon"
   ]
  },
  {
   "cell_type": "code",
   "execution_count": 2,
   "metadata": {},
   "outputs": [],
   "source": [
    "ctx = mx.gpu() if mx.test_utils.list_gpus() else mx.cpu()\n",
    "data_ctx = ctx\n",
    "model_ctx = ctx"
   ]
  },
  {
   "cell_type": "code",
   "execution_count": 3,
   "metadata": {},
   "outputs": [],
   "source": [
    "ratings = pd.read_csv(\"u.data\", sep='\\t', header=None)"
   ]
  },
  {
   "cell_type": "code",
   "execution_count": 4,
   "metadata": {},
   "outputs": [
    {
     "data": {
      "text/html": [
       "<div>\n",
       "<style scoped>\n",
       "    .dataframe tbody tr th:only-of-type {\n",
       "        vertical-align: middle;\n",
       "    }\n",
       "\n",
       "    .dataframe tbody tr th {\n",
       "        vertical-align: top;\n",
       "    }\n",
       "\n",
       "    .dataframe thead th {\n",
       "        text-align: right;\n",
       "    }\n",
       "</style>\n",
       "<table border=\"1\" class=\"dataframe\">\n",
       "  <thead>\n",
       "    <tr style=\"text-align: right;\">\n",
       "      <th></th>\n",
       "      <th>0</th>\n",
       "      <th>1</th>\n",
       "      <th>2</th>\n",
       "      <th>3</th>\n",
       "    </tr>\n",
       "  </thead>\n",
       "  <tbody>\n",
       "    <tr>\n",
       "      <th>0</th>\n",
       "      <td>196</td>\n",
       "      <td>242</td>\n",
       "      <td>3</td>\n",
       "      <td>881250949</td>\n",
       "    </tr>\n",
       "    <tr>\n",
       "      <th>1</th>\n",
       "      <td>186</td>\n",
       "      <td>302</td>\n",
       "      <td>3</td>\n",
       "      <td>891717742</td>\n",
       "    </tr>\n",
       "    <tr>\n",
       "      <th>2</th>\n",
       "      <td>22</td>\n",
       "      <td>377</td>\n",
       "      <td>1</td>\n",
       "      <td>878887116</td>\n",
       "    </tr>\n",
       "    <tr>\n",
       "      <th>3</th>\n",
       "      <td>244</td>\n",
       "      <td>51</td>\n",
       "      <td>2</td>\n",
       "      <td>880606923</td>\n",
       "    </tr>\n",
       "    <tr>\n",
       "      <th>4</th>\n",
       "      <td>166</td>\n",
       "      <td>346</td>\n",
       "      <td>1</td>\n",
       "      <td>886397596</td>\n",
       "    </tr>\n",
       "  </tbody>\n",
       "</table>\n",
       "</div>"
      ],
      "text/plain": [
       "     0    1  2          3\n",
       "0  196  242  3  881250949\n",
       "1  186  302  3  891717742\n",
       "2   22  377  1  878887116\n",
       "3  244   51  2  880606923\n",
       "4  166  346  1  886397596"
      ]
     },
     "execution_count": 4,
     "metadata": {},
     "output_type": "execute_result"
    }
   ],
   "source": [
    "ratings.head()"
   ]
  },
  {
   "cell_type": "code",
   "execution_count": 5,
   "metadata": {},
   "outputs": [],
   "source": [
    "ratings.columns = ['userId','itemId','rating','timestamp']"
   ]
  },
  {
   "cell_type": "code",
   "execution_count": 6,
   "metadata": {},
   "outputs": [
    {
     "name": "stdout",
     "output_type": "stream",
     "text": [
      "943\n",
      "1682\n"
     ]
    }
   ],
   "source": [
    "print(ratings['userId'].nunique())\n",
    "print(ratings['itemId'].nunique())"
   ]
  },
  {
   "cell_type": "code",
   "execution_count": 15,
   "metadata": {
    "scrolled": true
   },
   "outputs": [
    {
     "data": {
      "text/plain": [
       "'                   \\nclass MaskedSumOfSquares(gluon.loss.Loss):\\n    \\n    def __init__(self,**kwargs):\\n        super(MaskedSumOfSquares, self).__init__(weight=None,batch_axis=0,**kwargs)\\n        \\n    def forward(self,output,label):\\n        \\n        mask = nd.greater(label,0)\\n        \\n        masked_output = nd.elemwise_mul(output,mask)\\n        \\n        return nd.sum(nd.abs(masked_output-label)**2)         \\n            \\n            '"
      ]
     },
     "execution_count": 15,
     "metadata": {},
     "output_type": "execute_result"
    }
   ],
   "source": [
    "class NCF(gluon.Block):\n",
    "    \n",
    "    \n",
    "    def __init__(self,user_vocabulary,user_emb_size,item_vocabulary,item_emb_size,hidden_units,n_outputs,**kwargs):\n",
    "        \n",
    "        super(NCF,self).__init__(**kwargs)\n",
    "        \n",
    "        with self.name_scope():\n",
    "            \n",
    "            self.user_emb = gluon.nn.Embedding(input_dim=user_vocabulary+1,\n",
    "                                               output_dim=user_emb_size)\n",
    "            self.item_emb = gluon.nn.Embedding(input_dim=item_vocabulary+1,\n",
    "                                               output_dim=item_emb_size)\n",
    "            hidden_units = hidden_units\n",
    "            n_layers = len(hidden_units)\n",
    "                \n",
    "            for i in range(n_layers):\n",
    "                \n",
    "                self.__dict__[f'dense_{i+1}'] = gluon.nn.Dense(units=hidden_units[i], activation='relu')\n",
    "                self.__dict__['_children'][f'dense_{i+1}'] = self.__dict__[f'dense_{i+1}']\n",
    "        \n",
    "            self.out_layer = gluon.nn.Dense(units=n_outputs)\n",
    "                    \n",
    "    def forward(self, x,y):\n",
    "        \n",
    "        x = self.user_emb(x)\n",
    "        y = self.item_emb(y)\n",
    "        latent_vector = nd.elemwise_mul(x,y)\n",
    "        hid = self.dense_1(latent_vector)\n",
    "        hid = self.dense_2(hid)\n",
    "        hid = self.dense_3(hid)\n",
    "        out = self.out_layer(hid)\n",
    "        \n",
    "        return(out)\n",
    "                                  \n",
    "'''                   \n",
    "class MaskedSumOfSquares(gluon.loss.Loss):\n",
    "    \n",
    "    def __init__(self,**kwargs):\n",
    "        super(MaskedSumOfSquares, self).__init__(weight=None,batch_axis=0,**kwargs)\n",
    "        \n",
    "    def forward(self,output,label):\n",
    "        \n",
    "        mask = nd.greater(label,0)\n",
    "        \n",
    "        masked_output = nd.elemwise_mul(output,mask)\n",
    "        \n",
    "        return nd.sum(nd.abs(masked_output-label)**2)         \n",
    "            \n",
    "            '''"
   ]
  },
  {
   "cell_type": "code",
   "execution_count": 29,
   "metadata": {},
   "outputs": [],
   "source": [
    "class InputDataset(gluon.data.Dataset):\n",
    "    \n",
    "    def __init__(self,data, columns=None):\n",
    "    \n",
    "        self.length = len(data)\n",
    "        # Supposing that if it's not numpy or ndarray then it's a dataframe\n",
    "        if not isinstance(data,mx.ndarray.ndarray.NDArray):\n",
    "            self.data = _dataframe_to_ndarray(data,columns)\n",
    "        self.data = data\n",
    "        \n",
    "    def __getitem__(self, idx):\n",
    "        \n",
    "        userId = self.data[idx,0].astype('int32')\n",
    "        itemId = self.data[idx,1].astype('int32')\n",
    "        rating = self.data[idx,2]\n",
    "        \n",
    "        return userId,itemId,rating\n",
    "    \n",
    "    def __len__(self):\n",
    "        \n",
    "        return self.length\n",
    "    \n",
    "    \n",
    "    def _dataframe_to_ndarray(data, columns):\n",
    "        \n",
    "        return nd.array(data[columns])\n",
    "    \n",
    "        "
   ]
  },
  {
   "cell_type": "code",
   "execution_count": 30,
   "metadata": {},
   "outputs": [],
   "source": [
    "net = NCF(user_vocabulary=943,user_emb_size=16,item_emb_size=16, item_vocabulary=1682,hidden_units=[32,8,4], n_outputs=1)"
   ]
  },
  {
   "cell_type": "code",
   "execution_count": 31,
   "metadata": {},
   "outputs": [],
   "source": [
    "net.collect_params().initialize(mx.init.Normal(sigma=.01), ctx=model_ctx)"
   ]
  },
  {
   "cell_type": "code",
   "execution_count": 32,
   "metadata": {},
   "outputs": [],
   "source": [
    "dataset = InputDataset(nd.array(ratings))\n",
    "data_loader = gluon.data.DataLoader(dataset, batch_size=256, shuffle=True)"
   ]
  },
  {
   "cell_type": "code",
   "execution_count": 33,
   "metadata": {},
   "outputs": [],
   "source": [
    "loss = gluon.loss.L2Loss()\n",
    "trainer = gluon.Trainer(net.collect_params(),\n",
    "                        optimizer='adam', optimizer_params={'learning_rate':1e-2})"
   ]
  },
  {
   "cell_type": "code",
   "execution_count": 34,
   "metadata": {
    "scrolled": true
   },
   "outputs": [
    {
     "name": "stdout",
     "output_type": "stream",
     "text": [
      "cum loss 1.0022087977600098 in epoch 0\n",
      "cum loss 0.4039477059173584 in epoch 1\n",
      "cum loss 0.34629052768707275 in epoch 2\n",
      "cum loss 0.3094561330032349 in epoch 3\n",
      "cum loss 0.28764573711395264 in epoch 4\n",
      "cum loss 0.27162368679046633 in epoch 5\n",
      "cum loss 0.26054509479522703 in epoch 6\n",
      "cum loss 0.25201227951049804 in epoch 7\n",
      "cum loss 0.24453379745483397 in epoch 8\n",
      "cum loss 0.2388196105957031 in epoch 9\n"
     ]
    }
   ],
   "source": [
    "n_epochs=10\n",
    "losses = []\n",
    "for e in range(n_epochs):\n",
    "    cum_loss = 0\n",
    "    for idx,(user,item,rating) in enumerate(data_loader):\n",
    "        with autograd.record():\n",
    "            out= net(user,item)\n",
    "            l = loss(out, rating)\n",
    "        l.backward()\n",
    "        trainer.step(256)\n",
    "        cum_loss += nd.sum(l).asscalar()\n",
    "    print(f\"cum loss {cum_loss/len(ratings)} in epoch {e}\")\n",
    "    losses.append(cum_loss/len(ratings))"
   ]
  },
  {
   "cell_type": "code",
   "execution_count": 23,
   "metadata": {},
   "outputs": [
    {
     "data": {
      "text/html": [
       "<div>\n",
       "<style scoped>\n",
       "    .dataframe tbody tr th:only-of-type {\n",
       "        vertical-align: middle;\n",
       "    }\n",
       "\n",
       "    .dataframe tbody tr th {\n",
       "        vertical-align: top;\n",
       "    }\n",
       "\n",
       "    .dataframe thead th {\n",
       "        text-align: right;\n",
       "    }\n",
       "</style>\n",
       "<table border=\"1\" class=\"dataframe\">\n",
       "  <thead>\n",
       "    <tr style=\"text-align: right;\">\n",
       "      <th></th>\n",
       "      <th>userId</th>\n",
       "      <th>itemId</th>\n",
       "      <th>rating</th>\n",
       "      <th>timestamp</th>\n",
       "    </tr>\n",
       "  </thead>\n",
       "  <tbody>\n",
       "    <tr>\n",
       "      <th>0</th>\n",
       "      <td>196</td>\n",
       "      <td>242</td>\n",
       "      <td>3</td>\n",
       "      <td>881250949</td>\n",
       "    </tr>\n",
       "    <tr>\n",
       "      <th>1</th>\n",
       "      <td>186</td>\n",
       "      <td>302</td>\n",
       "      <td>3</td>\n",
       "      <td>891717742</td>\n",
       "    </tr>\n",
       "    <tr>\n",
       "      <th>2</th>\n",
       "      <td>22</td>\n",
       "      <td>377</td>\n",
       "      <td>1</td>\n",
       "      <td>878887116</td>\n",
       "    </tr>\n",
       "    <tr>\n",
       "      <th>3</th>\n",
       "      <td>244</td>\n",
       "      <td>51</td>\n",
       "      <td>2</td>\n",
       "      <td>880606923</td>\n",
       "    </tr>\n",
       "    <tr>\n",
       "      <th>4</th>\n",
       "      <td>166</td>\n",
       "      <td>346</td>\n",
       "      <td>1</td>\n",
       "      <td>886397596</td>\n",
       "    </tr>\n",
       "    <tr>\n",
       "      <th>...</th>\n",
       "      <td>...</td>\n",
       "      <td>...</td>\n",
       "      <td>...</td>\n",
       "      <td>...</td>\n",
       "    </tr>\n",
       "    <tr>\n",
       "      <th>99995</th>\n",
       "      <td>880</td>\n",
       "      <td>476</td>\n",
       "      <td>3</td>\n",
       "      <td>880175444</td>\n",
       "    </tr>\n",
       "    <tr>\n",
       "      <th>99996</th>\n",
       "      <td>716</td>\n",
       "      <td>204</td>\n",
       "      <td>5</td>\n",
       "      <td>879795543</td>\n",
       "    </tr>\n",
       "    <tr>\n",
       "      <th>99997</th>\n",
       "      <td>276</td>\n",
       "      <td>1090</td>\n",
       "      <td>1</td>\n",
       "      <td>874795795</td>\n",
       "    </tr>\n",
       "    <tr>\n",
       "      <th>99998</th>\n",
       "      <td>13</td>\n",
       "      <td>225</td>\n",
       "      <td>2</td>\n",
       "      <td>882399156</td>\n",
       "    </tr>\n",
       "    <tr>\n",
       "      <th>99999</th>\n",
       "      <td>12</td>\n",
       "      <td>203</td>\n",
       "      <td>3</td>\n",
       "      <td>879959583</td>\n",
       "    </tr>\n",
       "  </tbody>\n",
       "</table>\n",
       "<p>100000 rows × 4 columns</p>\n",
       "</div>"
      ],
      "text/plain": [
       "       userId  itemId  rating  timestamp\n",
       "0         196     242       3  881250949\n",
       "1         186     302       3  891717742\n",
       "2          22     377       1  878887116\n",
       "3         244      51       2  880606923\n",
       "4         166     346       1  886397596\n",
       "...       ...     ...     ...        ...\n",
       "99995     880     476       3  880175444\n",
       "99996     716     204       5  879795543\n",
       "99997     276    1090       1  874795795\n",
       "99998      13     225       2  882399156\n",
       "99999      12     203       3  879959583\n",
       "\n",
       "[100000 rows x 4 columns]"
      ]
     },
     "execution_count": 23,
     "metadata": {},
     "output_type": "execute_result"
    }
   ],
   "source": [
    "ratings"
   ]
  },
  {
   "cell_type": "code",
   "execution_count": 38,
   "metadata": {},
   "outputs": [],
   "source": [
    "import matplotlib.pyplot as plt "
   ]
  },
  {
   "cell_type": "code",
   "execution_count": 40,
   "metadata": {},
   "outputs": [
    {
     "data": {
      "text/plain": [
       "Text(0, 0.5, 'Loss')"
      ]
     },
     "execution_count": 40,
     "metadata": {},
     "output_type": "execute_result"
    },
    {
     "data": {
      "image/png": "[encoded data removed]",
      "text/plain": [
       "<Figure size 432x288 with 1 Axes>"
      ]
     },
     "metadata": {
      "needs_background": "light"
     },
     "output_type": "display_data"
    }
   ],
   "source": [
    "plt.plot(losses)\n",
    "plt.xlabel('Epochs')\n",
    "plt.ylabel('Loss')"
   ]
  },
  {
   "cell_type": "code",
   "execution_count": 42,
   "metadata": {},
   "outputs": [
    {
     "name": "stderr",
     "output_type": "stream",
     "text": [
      "C:\\Users\\Andrea\\AppData\\Roaming\\Python\\Python36\\site-packages\\mxnet\\gluon\\block.py:461: UserWarning: save_params is deprecated. Please use save_parameters. Note that if you want load from SymbolBlock later, please use export instead. For details, see https://mxnet.apache.org/tutorials/gluon/save_load_params.html\n",
      "  warnings.warn(\"save_params is deprecated. Please use save_parameters. \"\n"
     ]
    }
   ],
   "source": [
    "model_params = 'neural_matrix_factorization.params'\n",
    "\n",
    "net.save_params(model_params)"
   ]
  },
  {
   "cell_type": "code",
   "execution_count": null,
   "metadata": {},
   "outputs": [],
   "source": []
  }
 ],
 "metadata": {
  "kernelspec": {
   "display_name": "Python 3",
   "language": "python",
   "name": "python3"
  },
  "language_info": {
   "codemirror_mode": {
    "name": "ipython",
    "version": 3
   },
   "file_extension": ".py",
   "mimetype": "text/x-python",
   "name": "python",
   "nbconvert_exporter": "python",
   "pygments_lexer": "ipython3",
   "version": "3.6.10"
  }
 },
 "nbformat": 4,
 "nbformat_minor": 4
}
